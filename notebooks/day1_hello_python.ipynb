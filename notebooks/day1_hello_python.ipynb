{
  "nbformat": 4,
  "nbformat_minor": 0,
  "metadata": {
    "colab": {
      "provenance": []
    },
    "kernelspec": {
      "name": "python3",
      "display_name": "Python 3"
    },
    "language_info": {
      "name": "python"
    }
  },
  "cells": [
    {
      "cell_type": "markdown",
      "source": [
        "# **Day 1 – Getting Started with Python & Organising Data**"
      ],
      "metadata": {
        "id": "LJW7uhqo5_6i"
      }
    },
    {
      "cell_type": "markdown",
      "source": [
        "## **Welcome to Python!**\n",
        "\n",
        "The `print()` function tells Python to display something on the screen. It's our first command!"
      ],
      "metadata": {
        "id": "gDyxZS6F54Fl"
      }
    },
    {
      "cell_type": "code",
      "source": [
        "# Welcome message\n",
        "print(\"👋 Hello, Python!\")\n",
        "print(\"Let's learn how to code together!\")"
      ],
      "metadata": {
        "colab": {
          "base_uri": "https://localhost:8080/"
        },
        "id": "BafHwQhe54gm",
        "outputId": "a937aea5-773a-43eb-d587-4d7b604e57a3"
      },
      "execution_count": null,
      "outputs": [
        {
          "output_type": "stream",
          "name": "stdout",
          "text": [
            "👋 Hello, Python!\n",
            "Let's learn how to code together!\n"
          ]
        }
      ]
    },
    {
      "cell_type": "markdown",
      "source": [
        "## **Variables and Data Types**"
      ],
      "metadata": {
        "id": "Aan7oBcp6dZR"
      }
    },
    {
      "cell_type": "markdown",
      "source": [
        "🧠 Quick Concepts:\n",
        "\n",
        "- Integers (`int`) are whole numbers.\n",
        "- Floats are decimal numbers.\n",
        "- Strings (`str`) are words or sentences.\n",
        "- Booleans (`bool`) are True/False values.\n",
        "\n",
        "✅ Try It Yourself!\n",
        "Change the values above to match your `name`, `age`, and `height`!"
      ],
      "metadata": {
        "id": "EBxYRS8_6d8U"
      }
    },
    {
      "cell_type": "code",
      "source": [
        "# Integer\n",
        "age = 15\n",
        "# Float\n",
        "height = 5.7\n",
        "# String\n",
        "name = \"Huzaifa\"\n",
        "# Boolean\n",
        "is_student = True\n",
        "\n",
        "print(\"Name:\", name)\n",
        "print(\"Age:\", age)\n",
        "print(\"Height:\", height)\n",
        "print(\"Student?\", is_student)\n"
      ],
      "metadata": {
        "id": "n2L107s46PI5"
      },
      "execution_count": null,
      "outputs": []
    },
    {
      "cell_type": "markdown",
      "source": [
        "## **Arithmetic Operators**"
      ],
      "metadata": {
        "id": "tE6nGPq865KC"
      }
    },
    {
      "cell_type": "markdown",
      "source": [
        "**Example: Mini Calculator**"
      ],
      "metadata": {
        "id": "qnhauybE68D-"
      }
    },
    {
      "cell_type": "code",
      "source": [
        "# Let's build a simple calculator\n",
        "num1 = 10\n",
        "num2 = 5\n",
        "\n",
        "add = num1 + num2\n",
        "sub = num1 - num2\n",
        "mul = num1 * num2\n",
        "div = num1 / num2\n",
        "\n",
        "print(\"Addition:\", add)\n",
        "print(\"Subtraction:\", sub)\n",
        "print(\"Multiplication:\", mul)\n",
        "print(\"Division:\", div)\n"
      ],
      "metadata": {
        "id": "MoRHNoh168UJ"
      },
      "execution_count": null,
      "outputs": []
    },
    {
      "cell_type": "markdown",
      "source": [
        "**🎯 Task:**\n",
        "Try changing num1 and num2. What happens?"
      ],
      "metadata": {
        "id": "CVji0_iO7K-6"
      }
    },
    {
      "cell_type": "markdown",
      "source": [
        "---\n"
      ],
      "metadata": {
        "id": "J3Yu3SHx7UbY"
      }
    },
    {
      "cell_type": "markdown",
      "source": [
        "# **Introduction to Python Data Structures**"
      ],
      "metadata": {
        "id": "EHbtrbKm7W5b"
      }
    },
    {
      "cell_type": "markdown",
      "source": [
        "---\n",
        "\n",
        "## **Lists - Storing Items in Order**\n",
        "\n",
        "🧠 Note: Lists keep items in order and allow duplicates."
      ],
      "metadata": {
        "id": "1mh-PQC57bqZ"
      }
    },
    {
      "cell_type": "code",
      "source": [
        "# A list of student names\n",
        "students = [\"Ali\", \"Sara\", \"Zara\", \"Ahmed\"]\n",
        "print(\"Students:\", students)\n",
        "\n",
        "# Accessing elements\n",
        "print(\"First student:\", students[0])\n",
        "\n",
        "# Adding a student\n",
        "students.append(\"Bilal\")\n",
        "print(\"After adding:\", students)\n",
        "\n",
        "# Removing a student\n",
        "students.remove(\"Sara\")\n",
        "print(\"After removing:\", students)\n"
      ],
      "metadata": {
        "id": "j5jxlbxY7GvE"
      },
      "execution_count": null,
      "outputs": []
    },
    {
      "cell_type": "markdown",
      "source": [
        "## **Tuples - Ordered, Unchangeable**"
      ],
      "metadata": {
        "id": "LQN2e-Sa9bbL"
      }
    },
    {
      "cell_type": "code",
      "source": [
        "dimensions = (1920, 1080)\n",
        "print(\"Screen resolution:\", dimensions)"
      ],
      "metadata": {
        "id": "JqwYbyXM9iJU"
      },
      "execution_count": null,
      "outputs": []
    },
    {
      "cell_type": "markdown",
      "source": [
        "🧠 Note:\n",
        "\n",
        "- Tuples are like lists, but you cannot change their values after creation.\n",
        "- Use tuples when you want to protect the data from being modified."
      ],
      "metadata": {
        "id": "N8MIjchl9q7M"
      }
    },
    {
      "cell_type": "markdown",
      "source": [
        "---\n",
        "\n",
        "\n",
        "## **Lists vs Tuples - What Can You Change?**"
      ],
      "metadata": {
        "id": "ldpKQonc-0OG"
      }
    },
    {
      "cell_type": "code",
      "source": [
        "# LIST: You can change, add, or remove items\n",
        "fruits_list = [\"apple\", \"banana\", \"cherry\"]\n",
        "print(\"Original List:\", fruits_list)\n",
        "\n",
        "# Changing an item\n",
        "fruits_list[1] = \"blueberry\"\n",
        "print(\"After change:\", fruits_list)\n",
        "\n",
        "# Adding a new item\n",
        "fruits_list.append(\"mango\")\n",
        "print(\"After appending:\", fruits_list)\n",
        "\n",
        "# Removing an item\n",
        "fruits_list.remove(\"apple\")\n",
        "print(\"After removing:\", fruits_list)\n"
      ],
      "metadata": {
        "id": "X_JEEIOf-sPg"
      },
      "execution_count": null,
      "outputs": []
    },
    {
      "cell_type": "code",
      "source": [
        "# TUPLE: You cannot change items\n",
        "fruits_tuple = (\"apple\", \"banana\", \"cherry\")\n",
        "print(\"Original Tuple:\", fruits_tuple)\n",
        "\n",
        "# Let's try to change the second item\n",
        "# This will cause an error!\n",
        "fruits_tuple[1] = \"blueberry\"  # ❌ ERROR!\n"
      ],
      "metadata": {
        "id": "P7f6E9fi-tR-"
      },
      "execution_count": null,
      "outputs": []
    },
    {
      "cell_type": "markdown",
      "source": [
        "### 🔍 ***List vs Tuple***\n",
        "\n",
        "| Feature              | List                          | Tuple                         |\n",
        "|----------------------|-------------------------------|-------------------------------|\n",
        "| Syntax               | `[\"apple\", \"banana\"]`         | `(\"apple\", \"banana\")`         |\n",
        "| Changeable (Mutable) | ✅ Yes – you can modify it     | ❌ No – fixed after creation  |\n",
        "| Add/Remove items     | ✅ Yes – use `.append()` etc. | ❌ No                         |\n",
        "| Use Case             | When data may change          | When data must stay the same  |\n",
        "\n",
        "👉 Use **lists** when your data can grow or change.  \n",
        "👉 Use **tuples** when your data must stay safe and unchanged.\n"
      ],
      "metadata": {
        "id": "y9WgX7lz_PtI"
      }
    },
    {
      "cell_type": "markdown",
      "source": [
        "## **Dictionaries - Pairing Data**"
      ],
      "metadata": {
        "id": "ZK37qn0Z7lYC"
      }
    },
    {
      "cell_type": "code",
      "source": [
        "# Dictionary of student marks\n",
        "marks = {\n",
        "    \"Ali\": 85,\n",
        "    \"Zara\": 92,\n",
        "    \"Ahmed\": 76\n",
        "}\n",
        "\n",
        "print(\"Zara's marks:\", marks[\"Zara\"])\n",
        "\n",
        "# Adding a new student\n",
        "marks[\"Bilal\"] = 88\n",
        "print(\"Updated Marks:\", marks)\n"
      ],
      "metadata": {
        "id": "6ISV626y7kl3"
      },
      "execution_count": null,
      "outputs": []
    },
    {
      "cell_type": "markdown",
      "source": [
        "## **Sets - Keeping Unique Items**\n"
      ],
      "metadata": {
        "id": "jQsHUi-97ygo"
      }
    },
    {
      "cell_type": "markdown",
      "source": [
        "📌 Note: Sets don’t keep order and remove duplicates automatically."
      ],
      "metadata": {
        "id": "_jTNDwMF8CfL"
      }
    },
    {
      "cell_type": "code",
      "source": [
        "# Set of unique classes\n",
        "classes = {\"Math\", \"Science\", \"English\", \"Math\"}\n",
        "print(\"Classes:\", classes)"
      ],
      "metadata": {
        "id": "dX2wphVJ74bC"
      },
      "execution_count": null,
      "outputs": []
    },
    {
      "cell_type": "markdown",
      "source": [
        "---\n",
        "\n",
        "## 📊 ***Comparison of Python Data Structures***\n",
        "\n",
        "| Feature       | List                        | Tuple                       | Set                         | Dictionary                     |\n",
        "|---------------|-----------------------------|-----------------------------|------------------------------|--------------------------------|\n",
        "| Ordered?      | ✅ Yes                      | ✅ Yes                      | ❌ No                       | ✅ Yes (from Python 3.7+)      |\n",
        "| Changeable?   | ✅ Yes (mutable)            | ❌ No (immutable)           | ✅ Yes                       | ✅ Yes                         |\n",
        "| Duplicates?   | ✅ Yes                      | ✅ Yes                      | ❌ No (only unique values)   | ❌ No duplicate keys           |\n",
        "| Access by?    | Index (0, 1, 2...)          | Index (0, 1, 2...)          | No index (loop only)         | Key (`dict[\"key\"]`)           |\n",
        "| Use Case      | Ordered collection of items | Fixed data like coordinates | Unique values like tags      | Paired data like name:score   |\n",
        "\n",
        "---\n",
        "\n",
        "### 🧠 When to Use What?\n",
        "\n",
        "- **List**: When you need a changeable sequence – like a shopping list or student names.\n",
        "- **Tuple**: When data shouldn't change – like screen size or date of birth.\n",
        "- **Set**: When you need **only unique items** – like subject names or tags.\n",
        "- **Dictionary**: When pairing items – like student names with their marks.\n"
      ],
      "metadata": {
        "id": "G4po9Nuk9zED"
      }
    },
    {
      "cell_type": "markdown",
      "source": [
        "---\n",
        "\n",
        "\n",
        "## **Mini Project: Grade Book App (Basic)**"
      ],
      "metadata": {
        "id": "qm8URHTu8hWX"
      }
    },
    {
      "cell_type": "markdown",
      "source": [
        "🎯 Challenge:\n",
        "\n",
        "- Add 2 more students.\n",
        "- Try printing only the students who scored more than 80."
      ],
      "metadata": {
        "id": "wy0atZNk9B_y"
      }
    },
    {
      "cell_type": "code",
      "source": [
        "# Create a list of students and their marks using a dictionary\n",
        "gradebook = {\n",
        "    \"Ayesha\": 90,\n",
        "    \"Zain\": 78,\n",
        "    \"Tariq\": 82\n",
        "}\n",
        "\n",
        "# Print all students and their marks\n",
        "for student in gradebook:\n",
        "    print(student, \"scored\", gradebook[student])\n"
      ],
      "metadata": {
        "id": "gioLc_HS8pZI"
      },
      "execution_count": null,
      "outputs": []
    },
    {
      "cell_type": "markdown",
      "source": [
        "## **🧪 Exercise: Let’s Practice!**"
      ],
      "metadata": {
        "id": "GvFrqVHz83io"
      }
    },
    {
      "cell_type": "code",
      "source": [
        "# TODO: Create your own list of 5 favorite foods\n",
        "# TODO: Make a dictionary of 3 countries and their capitals\n",
        "# TODO: Use print statements to show your results"
      ],
      "metadata": {
        "id": "dxiK1HM58B4o"
      },
      "execution_count": null,
      "outputs": []
    },
    {
      "cell_type": "markdown",
      "source": [
        "# **Summary (Markdown Cell)**\n",
        "\n",
        "### ✅ What You Learned Today\n",
        "\n",
        "- 📌 Variables and data types: int, float, str, bool\n",
        "- 🧮 Built a mini calculator\n",
        "- 📚 Used:\n",
        "  - **Lists** to store student names\n",
        "  - **Tuples** for unchangeable data like screen size\n",
        "  - **Sets** to remove duplicates\n",
        "  - **Dictionaries** to map names to marks\n",
        "- 🛠️ Built a simple grade book app\n",
        "- 📊 Compared all data structures and when to use them\n",
        "\n",
        "Next up: 🔄 Control Flow and Interactivity!\n"
      ],
      "metadata": {
        "id": "gyTvxeUG8R58"
      }
    },
    {
      "cell_type": "code",
      "source": [],
      "metadata": {
        "id": "UMXjskYd-GCW"
      },
      "execution_count": null,
      "outputs": []
    }
  ]
}